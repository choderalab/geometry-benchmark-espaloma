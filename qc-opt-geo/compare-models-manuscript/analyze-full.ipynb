{
 "cells": [
  {
   "cell_type": "code",
   "execution_count": null,
   "metadata": {
    "tags": []
   },
   "outputs": [],
   "source": [
    "import pandas as pd\n",
    "import matplotlib.pyplot as plt\n",
    "import numpy as np\n",
    "import seaborn as sns\n",
    "from scipy.stats import norm, lognorm, ttest_ind\n",
    "from scipy.optimize import curve_fit"
   ]
  },
  {
   "cell_type": "code",
   "execution_count": null,
   "metadata": {
    "tags": []
   },
   "outputs": [],
   "source": [
    "kelly = [\"#ebce2b\", \"#702c8c\", \"#db6917\", \"#96cde6\", \"#ba1c30\", \"#c0bd7f\", \"#7f7e80\", \"#5fa641\", \"#d485b2\", \"#4277b6\", \"#df8461\", \"#463397\", \"#e1a11a\", \"#91218c\", \"#e8e948\", \"#7e1510\", \"#92ae31\", \"#6f340d\", \"#d32b1e\", \"#2b3514\",]"
   ]
  },
  {
   "cell_type": "markdown",
   "metadata": {},
   "source": [
    "# Reading the csv file of benchmark run"
   ]
  },
  {
   "cell_type": "code",
   "execution_count": null,
   "metadata": {
    "tags": []
   },
   "outputs": [],
   "source": [
    "df = pd.read_csv('03-metrics.csv')"
   ]
  },
  {
   "cell_type": "code",
   "execution_count": null,
   "metadata": {
    "scrolled": true,
    "tags": []
   },
   "outputs": [],
   "source": [
    "df.columns"
   ]
  },
  {
   "cell_type": "code",
   "execution_count": null,
   "metadata": {
    "tags": []
   },
   "outputs": [],
   "source": [
    "# a is a list\n",
    "def function_hist(a, ini, final, nbins):\n",
    "    bins = np.linspace(ini, final, nbins)\n",
    "    counts, bins = np.histogram(np.array(a), bins)\n",
    "    return counts, bins"
   ]
  },
  {
   "cell_type": "code",
   "execution_count": null,
   "metadata": {
    "tags": []
   },
   "outputs": [],
   "source": [
    "ff_list = list(df['Force Field'].unique())\n",
    "ff_list"
   ]
  },
  {
   "cell_type": "markdown",
   "metadata": {},
   "source": [
    "# RMSD/TFD/ddE distributions with rolling point average"
   ]
  },
  {
   "cell_type": "code",
   "execution_count": null,
   "metadata": {
    "tags": []
   },
   "outputs": [],
   "source": [
    "plt.figure(figsize=(12,8))\n",
    "plt.rcParams.update({'font.size': 16})\n",
    "\n",
    "average_window = 10\n",
    "for forcefield in ff_list:\n",
    "    t_average = df.loc[df['Force Field'] == forcefield][\"RMSD\"].rolling(window=average_window).mean()\n",
    "    n,x = function_hist(t_average, 0, 4, 100) #plt.hist(t_average, bins = np.linspace(0,3,200), histtype=u'step', color='w')\n",
    "    bin_centers = 0.5*(x[1:]+x[:-1])\n",
    "    if forcefield == 'GAFF 2.11 + AM1BCC':\n",
    "        plt.plot(bin_centers, n, '-.', linewidth=3, label=forcefield) ## using bin_centers rather than edges\n",
    "    else:\n",
    "        plt.plot(bin_centers, n, linewidth=3, label=forcefield)\n",
    "plt.xlim(0, 2)        \n",
    "plt.xlabel(r\"RMSD ($\\mathrm{\\AA}$) wrt QM, rolling average with 10 points\")\n",
    "plt.ylabel(\"Count\")\n",
    "plt.legend()\n",
    "plt.title('RMSD comparison on Industry benchmark set (70K+ conf.)')\n",
    "plt.savefig(f'Rolling_average_of_{average_window}_RMSD.png', dpi=300)\n",
    "plt.show()"
   ]
  },
  {
   "cell_type": "code",
   "execution_count": null,
   "metadata": {
    "tags": []
   },
   "outputs": [],
   "source": [
    "plt.figure(figsize=(12,8))\n",
    "plt.rcParams.update({'font.size': 16})\n",
    "\n",
    "average_window = 10\n",
    "for forcefield in ff_list:\n",
    "    t_average = df.loc[df['Force Field'] == forcefield][\"TFD\"].rolling(window=average_window).mean()\n",
    "    n,x = function_hist(t_average, 0, 0.4, 100) #plt.hist(t_average, bins = np.linspace(0,3,200), histtype=u'step', color='w')\n",
    "    bin_centers = 0.5*(x[1:]+x[:-1])\n",
    "    if forcefield == 'GAFF 2.11 + AM1BCC':\n",
    "        plt.plot(bin_centers, n, '-.', linewidth=3, label=forcefield) ## using bin_centers rather than edges\n",
    "    else:\n",
    "        plt.plot(bin_centers, n, linewidth=3, label=forcefield)\n",
    "\n",
    "plt.xlim((0,0.2))\n",
    "plt.xlabel(f\"TFD wrt QM, rolling average with {average_window} points\")\n",
    "plt.ylabel(\"Count\")\n",
    "plt.legend()\n",
    "plt.title('TFD comparison on Industry benchmark set (70K+ conf.)')\n",
    "plt.savefig(f'Rolling_average_of_{average_window}_TFD.png', dpi=300)\n",
    "plt.show()"
   ]
  },
  {
   "cell_type": "code",
   "execution_count": null,
   "metadata": {
    "tags": []
   },
   "outputs": [],
   "source": [
    "plt.figure(figsize=(12,8))\n",
    "plt.rcParams.update({'font.size': 16})\n",
    "\n",
    "average_window = 10\n",
    "for forcefield in ff_list:\n",
    "    t_average = df.loc[df['Force Field'] == forcefield][\"ddE\"].rolling(window=average_window).mean()\n",
    "    n,x = function_hist(t_average, -10, 10, 60) #plt.hist(t_average, bins = np.linspace(0,3,200), histtype=u'step', color='w')\n",
    "    bin_centers = 0.5*(x[1:]+x[:-1])\n",
    "    if forcefield == 'GAFF 2.11 + AM1BCC':\n",
    "        plt.plot(bin_centers, n, '-.', linewidth=3, label=forcefield) ## using bin_centers rather than edges\n",
    "    else:\n",
    "        plt.plot(bin_centers, n, linewidth=3, label=forcefield)\n",
    "        \n",
    "plt.xlabel(f\"ddE (kcal/mol) wrt QM, rolling average with {average_window} points\")\n",
    "plt.ylabel(\"Count\")\n",
    "plt.legend()\n",
    "plt.title('ddE comparison on Industry benchmark set (70K+ conf.)')\n",
    "plt.savefig(f'Rolling_average_of_{average_window}_ddE.png', dpi=300)\n",
    "plt.show()"
   ]
  },
  {
   "cell_type": "code",
   "execution_count": null,
   "metadata": {
    "tags": []
   },
   "outputs": [],
   "source": [
    "#ttest_ind(np.abs(df.loc[df['Force Field'] == 'Sage 2.0.0'][\"ddE\"]), np.abs(df.loc[df['Force Field'] == 'Sage 2.1.0rc'][\"ddE\"]), equal_var=False, nan_policy='omit')"
   ]
  },
  {
   "cell_type": "code",
   "execution_count": null,
   "metadata": {
    "tags": []
   },
   "outputs": [],
   "source": [
    "#ttest_ind(df.loc[df['Force Field'] == 'Sage 2.0.0'][\"ddE\"], df.loc[df['Force Field'] == 'Sage 2.1.0rc'][\"ddE\"], equal_var=False, nan_policy='omit')"
   ]
  },
  {
   "cell_type": "markdown",
   "metadata": {},
   "source": [
    "# RMSD/TFD/|ddE| distributions with log transform of the data and fit to gaussians"
   ]
  },
  {
   "cell_type": "code",
   "execution_count": null,
   "metadata": {
    "tags": []
   },
   "outputs": [],
   "source": [
    "#Gaussian function\n",
    "def gauss_function(x, a, x0, sigma):\n",
    "    return a*np.exp(-(x-x0)**2/(2*sigma**2))\n",
    "\n",
    "plt.figure(figsize=(15,10))\n",
    "plt.rcParams.update({'font.size': 16})\n",
    "\n",
    "fig, ax = plt.subplots(figsize=(15,10))#1,2, figsize=(10,5), gridspec_kw={'wspace':0.2})\n",
    "\n",
    "\n",
    "labels = ff_list\n",
    "for ii, forcefield in enumerate(labels):\n",
    "    data = df.loc[df['Force Field'] == forcefield][\"RMSD\"]\n",
    "#     data = data[data[data < 3]]\n",
    "    data = np.log(data[data != 0])\n",
    "    \n",
    "    num_bins = 30\n",
    "    hist,left = np.histogram(data,bins=num_bins, range=(-4,2))\n",
    "    centers = left[:-1] + (left[1] - left[0])\n",
    "    \n",
    "    mean = np.mean(data)\n",
    "    sigma = np.std(data)\n",
    "    p0 = [1, mean, sigma] #starting values for the fit\n",
    "    #fit the histogram\n",
    "    p1,_ = curve_fit(gauss_function,centers,hist,p0,maxfev=100000)\n",
    "\n",
    "#     ax.hist(data,bins=no_bins)\n",
    "    x = np.linspace(left[0],left[-1],1000)\n",
    "    y_fit = gauss_function(x, *p1)\n",
    "    if forcefield == 'GAFF 2.11 + AM1BCC':\n",
    "        ax.plot(x,y_fit,'-.', linewidth=2, label=labels[ii])\n",
    "    else:\n",
    "        ax.plot(x,y_fit,'-', linewidth=2, label=labels[ii], color=kelly[ii+1])\n",
    "        ax.plot(centers, hist,'-', linewidth=1, color=kelly[ii+1])\n",
    "    print(labels[ii], p1)\n",
    "\n",
    "plt.xlim((-4, 2))    \n",
    "plt.xlabel(r\"$\\mathregular{Log(RMSD)}$\")\n",
    "plt.ylabel(\"Frequency\")\n",
    "plt.legend()\n",
    "plt.title('Log(RMSD) comparison on Industry benchmark set (70K+ conf.)')\n",
    "plt.savefig('Log_transform_of_rmsd.png', dpi=300)\n",
    "plt.show()"
   ]
  },
  {
   "cell_type": "code",
   "execution_count": null,
   "metadata": {
    "tags": []
   },
   "outputs": [],
   "source": [
    "#Gaussian function\n",
    "def gauss_function(x, a, x0, sigma):\n",
    "    return a*np.exp(-(x-x0)**2/(2*sigma**2))\n",
    "\n",
    "plt.figure(figsize=(15,10))\n",
    "plt.rcParams.update({'font.size': 16})\n",
    "\n",
    "fig, ax = plt.subplots(figsize=(15,10))#1,2, figsize=(10,5), gridspec_kw={'wspace':0.2})\n",
    "\n",
    "\n",
    "labels = ff_list\n",
    "for ii, forcefield in enumerate(labels):\n",
    "    data = df.loc[df['Force Field'] == forcefield][\"TFD\"]\n",
    "    data = data[~np.isnan(data)]\n",
    "    data = np.log(data[data != 0])\n",
    "    \n",
    "    no_bins = 200\n",
    "    hist,left = np.histogram(data,bins=no_bins)\n",
    "    centers = left[:-1] + (left[1] - left[0])\n",
    "    \n",
    "    mean = np.mean(data)\n",
    "    sigma = np.std(data)\n",
    "    p0 = [1, mean, sigma] #starting values for the fit\n",
    "    #fit the histogram\n",
    "    p1,_ = curve_fit(gauss_function,centers,hist,p0,maxfev=100000)\n",
    "\n",
    "#     ax.hist(data,bins=no_bins)\n",
    "    x = np.linspace(left[0],left[-1],1000)\n",
    "    y_fit = gauss_function(x, *p1)\n",
    "    if forcefield == 'GAFF 2.11 + AM1BCC':\n",
    "        ax.plot(x,y_fit,'-.', linewidth=2, label=labels[ii])\n",
    "    else:\n",
    "        ax.plot(x,y_fit,'-', linewidth=2, label=labels[ii])\n",
    "    print(labels[ii], p1)\n",
    "\n",
    "plt.xlim((-6, 0))    \n",
    "plt.xlabel(r\"$\\mathregular{Log(TFD)}$\")\n",
    "plt.ylabel(\"Frequency\")\n",
    "plt.legend()\n",
    "plt.title('Log(TFD) comparison on Industry benchmark set (70K+ conf.)')\n",
    "plt.savefig('Log_transform_of_tfd.png', dpi=300)\n",
    "plt.show()"
   ]
  },
  {
   "cell_type": "code",
   "execution_count": null,
   "metadata": {
    "tags": []
   },
   "outputs": [],
   "source": [
    "#Gaussian function\n",
    "def gauss_function(x, a, x0, sigma):\n",
    "    return a*np.exp(-(x-x0)**2/(2*sigma**2))\n",
    "\n",
    "plt.figure(figsize=(15,10))\n",
    "plt.rcParams.update({'font.size': 16})\n",
    "\n",
    "fig, ax = plt.subplots(figsize=(15,10))#1,2, figsize=(10,5), gridspec_kw={'wspace':0.2})\n",
    "\n",
    "\n",
    "labels = ff_list\n",
    "for ii, forcefield in enumerate(labels):\n",
    "    data = df.loc[df['Force Field'] == forcefield][\"ddE\"]\n",
    "    data = data[~np.isnan(data)]\n",
    "    data = np.log(np.abs(data[data != 0]))\n",
    "    \n",
    "    no_bins = 200\n",
    "    hist,left = np.histogram(data,bins=no_bins)\n",
    "    centers = left[:-1] + (left[1] - left[0])\n",
    "    \n",
    "    mean = np.mean(data)\n",
    "    sigma = np.std(data)\n",
    "    p0 = [1, mean, sigma] #starting values for the fit\n",
    "    #fit the histogram\n",
    "    p1,_ = curve_fit(gauss_function,centers,hist,p0,maxfev=100000)\n",
    "\n",
    "#     ax.hist(data,bins=no_bins)\n",
    "    x = np.linspace(left[0],left[-1],1000)\n",
    "    y_fit = gauss_function(x, *p1)\n",
    "    ax.plot(x,y_fit,'-', linewidth=2, label=labels[ii])\n",
    "    print(labels[ii], p1)\n",
    "\n",
    "plt.xlim((-3, 5))    \n",
    "plt.xlabel(r\"$\\mathregular{Log(|ddE|)}$\")\n",
    "plt.ylabel(\"Frequency\")\n",
    "plt.legend()\n",
    "plt.title('Log(|ddE|) comparison on Industry benchmark set (70K+ conf.)')\n",
    "plt.savefig('Log_transform_of_absolute_ddE.png', dpi=300)\n",
    "plt.show()"
   ]
  },
  {
   "cell_type": "markdown",
   "metadata": {},
   "source": [
    "# KDE plots of the metrics RMSD/TFD/ddE"
   ]
  },
  {
   "cell_type": "code",
   "execution_count": null,
   "metadata": {
    "tags": []
   },
   "outputs": [],
   "source": [
    "plt.figure(figsize=(15,10))\n",
    "plt.rcParams.update({'font.size': 16})\n",
    "\n",
    "\n",
    "for forcefield in ff_list:\n",
    "    if forcefield == 'GAFF 2.11 + AM1BCC':\n",
    "        sns.kdeplot(df.loc[df['Force Field'] == forcefield][\"RMSD\"], linestyle='-.', linewidth=3, label=forcefield, gridsize=1000, bw_adjust=1.0) ## using bin_centers rather than edges\n",
    "    else:\n",
    "        sns.kdeplot(df.loc[df['Force Field'] == forcefield][\"RMSD\"], linewidth=3, label=forcefield, gridsize=1000, bw_adjust=1.0)\n",
    "\n",
    "plt.xlim(-0.02, 3)\n",
    "plt.xlabel(f\"RMSD (angstrom), KDE plot\")\n",
    "plt.ylabel(\"KDE\")\n",
    "plt.legend()\n",
    "plt.title('RMSD comparison on Industry benchmark set (70K+ conf.)')\n",
    "plt.savefig(f'KDE_plot_of_RMSD.png', dpi=300)\n",
    "plt.show()"
   ]
  },
  {
   "cell_type": "code",
   "execution_count": null,
   "metadata": {
    "tags": []
   },
   "outputs": [],
   "source": [
    "plt.figure(figsize=(15,10))\n",
    "plt.rcParams.update({'font.size': 16})\n",
    "\n",
    "\n",
    "for forcefield in ff_list:\n",
    "    if forcefield == 'GAFF 2.11 + AM1BCC':\n",
    "        sns.kdeplot(df.loc[df['Force Field'] == forcefield][\"TFD\"], linestyle='-.', linewidth=3, label=forcefield, gridsize=1000) ## using bin_centers rather than edges\n",
    "    else:\n",
    "        sns.kdeplot(df.loc[df['Force Field'] == forcefield][\"TFD\"], linewidth=3, label=forcefield, gridsize=1000)\n",
    "\n",
    "plt.xlim(-0.02, 0.3)\n",
    "plt.xlabel(f\"TFD, KDE plot\")\n",
    "plt.ylabel(\"KDE\")\n",
    "plt.legend()\n",
    "plt.title('TFD comparison on Industry benchmark set (70K+ conf.)')\n",
    "plt.savefig(f'KDE_plot_of_TFD.png', dpi=300)\n",
    "plt.show()"
   ]
  },
  {
   "cell_type": "code",
   "execution_count": null,
   "metadata": {
    "tags": []
   },
   "outputs": [],
   "source": [
    "plt.figure(figsize=(15,10))\n",
    "plt.rcParams.update({'font.size': 16})\n",
    "\n",
    "\n",
    "for forcefield in ff_list:\n",
    "    if forcefield == 'GAFF 2.11 + AM1BCC':\n",
    "        sns.kdeplot(df.loc[df['Force Field'] == forcefield][\"ddE\"], linestyle='-.', linewidth=3, label=forcefield, gridsize=1000) ## using bin_centers rather than edges\n",
    "    else:\n",
    "        sns.kdeplot(df.loc[df['Force Field'] == forcefield][\"ddE\"], linewidth=3, label=forcefield, gridsize=1000)\n",
    "\n",
    "plt.xlim(-10, 10)\n",
    "plt.xlabel(f\"ddE (kcal/mol), KDE plot\")\n",
    "plt.ylabel(\"KDE\")\n",
    "plt.legend()\n",
    "plt.title('ddE comparison on Industry benchmark set (70K+ conf.)')\n",
    "plt.savefig(f'KDE_plot_of_ddE.png', dpi=300)\n",
    "plt.show()"
   ]
  },
  {
   "cell_type": "markdown",
   "metadata": {},
   "source": [
    "# Cumulative distributions of the metrics RMSD/TFD/ddE"
   ]
  },
  {
   "cell_type": "code",
   "execution_count": null,
   "metadata": {
    "tags": []
   },
   "outputs": [],
   "source": [
    "from matplotlib.ticker import FormatStrFormatter"
   ]
  },
  {
   "cell_type": "raw",
   "metadata": {
    "tags": []
   },
   "source": [
    "plt.figure(figsize=(12,8))\n",
    "plt.rcParams.update({'font.size': 16})\n",
    "\n",
    "\n",
    "for forcefield in ff_list:\n",
    "    if forcefield == 'GAFF 2.11 + AM1BCC':\n",
    "        sns.ecdfplot(df.loc[df['Force Field'] == forcefield][\"RMSD\"], linestyle='-.', linewidth=3, label=forcefield) \n",
    "    else:\n",
    "        sns.ecdfplot(df.loc[df['Force Field'] == forcefield][\"RMSD\"], linewidth=3, label=forcefield)\n",
    "\n",
    "plt.xlim(-0.02, 2)\n",
    "plt.xlabel(r\"RMSD ($\\mathrm{\\AA}$) wrt QM, CDF plot\")\n",
    "plt.ylabel(\"CDF\")\n",
    "plt.legend()\n",
    "plt.title('RMSD comparison on Industry benchmark set (70K+ conf.)')\n",
    "plt.savefig(f'CDF_plot_of_RMSD.png', dpi=300)\n",
    "plt.show()"
   ]
  },
  {
   "cell_type": "code",
   "execution_count": null,
   "metadata": {
    "tags": []
   },
   "outputs": [],
   "source": [
    "fig, ax = plt.subplots(figsize=(12,8))\n",
    "ax.xaxis.set_major_formatter(FormatStrFormatter('%.1f'))\n",
    "ax.yaxis.set_major_formatter(FormatStrFormatter('%.1f'))\n",
    "\n",
    "for forcefield in ff_list:\n",
    "    if forcefield == 'GAFF 2.11 + AM1BCC':\n",
    "        sns.ecdfplot(df.loc[df['Force Field'] == forcefield][\"RMSD\"], linestyle='-.', linewidth=3, label=forcefield) \n",
    "    else:\n",
    "        sns.ecdfplot(df.loc[df['Force Field'] == forcefield][\"RMSD\"], linewidth=3, label=forcefield)\n",
    "\n",
    "plt.xlim(-0.02, 2)\n",
    "plt.xlabel(r\"RMSD ($\\mathrm{\\AA}$) wrt QM, CDF plot\", fontsize=24)\n",
    "plt.ylabel(\"CDF\", fontsize=24)\n",
    "plt.xticks(fontsize=24)\n",
    "plt.yticks(fontsize=24)\n",
    "plt.legend(loc='lower right', fontsize=24)\n",
    "plt.title('RMSD comparison on Industry benchmark set', fontsize=28)\n",
    "plt.savefig(f'CDF_plot_of_RMSD.png', dpi=300)\n",
    "plt.show()"
   ]
  },
  {
   "cell_type": "raw",
   "metadata": {},
   "source": [
    "plt.figure(figsize=(12,8))\n",
    "plt.rcParams.update({'font.size': 16})\n",
    "\n",
    "\n",
    "for forcefield in ff_list:\n",
    "    if forcefield == 'GAFF 2.11 + AM1BCC':\n",
    "        sns.ecdfplot(df.loc[df['Force Field'] == forcefield][\"TFD\"], linestyle='-.', linewidth=3, label=forcefield)\n",
    "    else:\n",
    "        sns.ecdfplot(df.loc[df['Force Field'] == forcefield][\"TFD\"], linewidth=3, label=forcefield)\n",
    "\n",
    "plt.xlim(-0.01, 0.2)\n",
    "plt.xlabel(f\"TFD, CDF plot\")\n",
    "plt.ylabel(\"CDF\")\n",
    "plt.legend()\n",
    "plt.title('TFD comparison on Industry benchmark set (70K+ conf.)')\n",
    "plt.savefig(f'CDF_plot_of_TFD.png', dpi=300)\n",
    "plt.show()"
   ]
  },
  {
   "cell_type": "code",
   "execution_count": null,
   "metadata": {
    "tags": []
   },
   "outputs": [],
   "source": [
    "fig, ax = plt.subplots(figsize=(12,8))\n",
    "ax.xaxis.set_major_formatter(FormatStrFormatter('%.1f'))\n",
    "ax.yaxis.set_major_formatter(FormatStrFormatter('%.1f'))\n",
    "\n",
    "\n",
    "for forcefield in ff_list:\n",
    "    if forcefield == 'GAFF 2.11 + AM1BCC':\n",
    "        sns.ecdfplot(df.loc[df['Force Field'] == forcefield][\"TFD\"], linestyle='-.', linewidth=3, label=forcefield)\n",
    "    else:\n",
    "        sns.ecdfplot(df.loc[df['Force Field'] == forcefield][\"TFD\"], linewidth=3, label=forcefield)\n",
    "\n",
    "plt.xlim(-0.01, 0.2)\n",
    "plt.xlabel(f\"TFD, CDF plot\", fontsize=24)\n",
    "plt.ylabel(\"CDF\", fontsize=24)\n",
    "plt.xticks(fontsize=24)\n",
    "plt.yticks(fontsize=24)\n",
    "plt.legend(loc='lower right', fontsize=24)\n",
    "plt.title('TFD comparison on Industry benchmark set', fontsize=28)\n",
    "plt.savefig(f'CDF_plot_of_TFD.png', dpi=300)\n",
    "plt.show()"
   ]
  },
  {
   "cell_type": "raw",
   "metadata": {
    "tags": []
   },
   "source": [
    "plt.figure(figsize=(12,8))\n",
    "plt.rcParams.update({'font.size': 16})\n",
    "\n",
    "\n",
    "for forcefield in ff_list:\n",
    "    if forcefield == 'GAFF 2.11 + AM1BCC':\n",
    "        sns.ecdfplot(abs(df.loc[df['Force Field'] == forcefield][\"ddE\"]), linestyle='-.', linewidth=3, label=forcefield)\n",
    "    else:\n",
    "        sns.ecdfplot(abs(df.loc[df['Force Field'] == forcefield][\"ddE\"]), linewidth=3, label=forcefield)\n",
    "\n",
    "plt.xlim(-0.02, 10)\n",
    "plt.xlabel(f\"|ddE| (kcal/mol) wrt QM, CDF plot\")\n",
    "plt.ylabel(\"CDF\")\n",
    "plt.legend()\n",
    "plt.title('|ddE| comparison on Industry benchmark set (70K+ conf.)')\n",
    "plt.savefig(f'CDF_plot_of_ddE.png', dpi=300)\n",
    "plt.show()"
   ]
  },
  {
   "cell_type": "code",
   "execution_count": null,
   "metadata": {
    "tags": []
   },
   "outputs": [],
   "source": [
    "plt.figure(figsize=(12,8))\n",
    "plt.rcParams.update({'font.size': 16})\n",
    "\n",
    "\n",
    "for forcefield in ff_list:\n",
    "    if forcefield == 'GAFF 2.11 + AM1BCC':\n",
    "        sns.ecdfplot(abs(df.loc[df['Force Field'] == forcefield][\"ddE\"]), linestyle='-.', linewidth=3, label=forcefield)\n",
    "    else:\n",
    "        sns.ecdfplot(abs(df.loc[df['Force Field'] == forcefield][\"ddE\"]), linewidth=3, label=forcefield)\n",
    "\n",
    "plt.xlim(-0.02, 10)\n",
    "plt.xlabel(f\"|ddE| (kcal/mol) wrt QM, CDF plot\", fontsize=24)\n",
    "plt.ylabel(\"CDF\", fontsize=24)\n",
    "plt.xticks(fontsize=24)\n",
    "plt.yticks(fontsize=24)\n",
    "plt.legend(loc='lower right', fontsize=24)\n",
    "plt.title('|ddE| comparison on Industry benchmark set', fontsize=28)\n",
    "plt.savefig(f'CDF_plot_of_ddE.png', dpi=300)\n",
    "plt.show()"
   ]
  },
  {
   "cell_type": "markdown",
   "metadata": {},
   "source": [
    "# Log-normal distribution of data (instead of log transform and fitting to a gaussian)"
   ]
  },
  {
   "cell_type": "code",
   "execution_count": null,
   "metadata": {
    "tags": []
   },
   "outputs": [],
   "source": [
    "# %matplotlib\n",
    "fix, ax = plt.subplots(figsize=(12,8))\n",
    "plt.rcParams.update({'font.size': 16})\n",
    "\n",
    "mean_plus_three_std = []\n",
    "for i, forcefield in enumerate(ff_list):\n",
    "    if forcefield == 'GAFF 2.11 + AM1BCC':\n",
    "        data = df.loc[df['Force Field'] == forcefield][\"RMSD\"]\n",
    "        data = data[~np.isnan(data)]\n",
    "        data = data[data != 0]\n",
    "        s, loc, scale = lognorm.fit(data, floc=0)\n",
    "        estimated_mu = np.log(scale)\n",
    "        estimated_sigma = s\n",
    "        plt.hist(data, bins=500, linestyle='-.', linewidth=2, label=forcefield, alpha=0.75, histtype='step')\n",
    "        xmin = data.min()\n",
    "        xmax = data.max()\n",
    "        x = np.linspace(xmin, xmax, 10000)\n",
    "        pdf = lognorm.pdf(x, s,  loc=loc, scale=scale)\n",
    "        plt.plot(x, pdf, linestyle='-.', linewidth=5, label=forcefield)\n",
    "        print(f\"{forcefield}, mean: {estimated_mu:.4f}, sigma: {estimated_sigma:.4f}\")\n",
    "        \n",
    "    else:\n",
    "        data = df.loc[df['Force Field'] == forcefield][\"RMSD\"]\n",
    "        data = data[~np.isnan(data)]\n",
    "        data = data[data != 0]\n",
    "        q3, q1 = np.percentile(data, [75 ,25])\n",
    "        iqr = q3 - q1\n",
    "        max_whisker = q3+3*iqr\n",
    "        print(max_whisker)\n",
    "        s, loc, scale = lognorm.fit(data[data < max_whisker], floc=0)\n",
    "        estimated_mu = np.log(scale)\n",
    "        estimated_sigma = s\n",
    "        num_bins = 300\n",
    "        hist,left = np.histogram(data, bins=num_bins, range=(0,3), density=True)\n",
    "        centers = left[:-1] + (left[1] - left[0])\n",
    "#         plt.hist(data, bins=300, linestyle='-', linewidth=1, alpha=1.0, histtype='step', color=kelly[i+1], density=True, range=(0, 3))\n",
    "        plt.plot(centers, hist, linestyle='-', linewidth=1, alpha=1.0, color=kelly[i+1])\n",
    "        xmin = data.min()\n",
    "        xmax = data.max()\n",
    "        x = np.linspace(xmin, xmax, 10000)\n",
    "        pdf = lognorm.pdf(x, s, loc=loc, scale=scale)\n",
    "        plt.plot(x, pdf, linewidth=2, label=forcefield, color=kelly[i+1])\n",
    "        print(f\"{forcefield}, mean: {estimated_mu:.4f}, sigma: {estimated_sigma:.4f}, scale: {scale}\")\n",
    "        print(lognorm.pdf([1], s, loc=loc, scale=scale))\n",
    "        print(\"Std dev: \", np.sqrt(np.exp(estimated_sigma**2 - 1)*np.exp(2*estimated_mu + estimated_sigma**2)))\n",
    "        print(\"Mean:\", np.exp(estimated_mu+0.5*estimated_sigma**2))\n",
    "        mean_plus_three_std.append(np.exp(estimated_mu+0.5*estimated_sigma**2) + 3*np.sqrt(np.exp(estimated_sigma**2 - 1)*np.exp(2*estimated_mu + estimated_sigma**2)))\n",
    "        x_mode = np.exp(estimated_mu - estimated_sigma*estimated_sigma)\n",
    "        x_mean = np.exp(estimated_mu+0.5*estimated_sigma**2)\n",
    "        plt.plot([x_mode, x_mode], [0, lognorm.pdf(x_mode, s, loc=loc, scale=scale)], 'k-')\n",
    "        plt.plot([x_mode, x_mode], [0, lognorm.pdf(x_mode, s, loc=loc, scale=scale)], 'o', color=kelly[i+1], ms=5)\n",
    "        plt.plot([x_mean, x_mean], [0, lognorm.pdf(x_mean, s, loc=loc, scale=scale)], 'k-.')\n",
    "        plt.plot([x_mean, x_mean], [0, lognorm.pdf(x_mean, s, loc=loc, scale=scale)], 'o', color=kelly[i+1], ms=5)\n",
    "        textstr = ' '.join((forcefield+r': $Mean=%.2f$' % (x_mean), r' $Mode=%.2f$' % (x_mode),'\\n'))\n",
    "        ax.text(0.55, 0.3+i/10, textstr, transform=ax.transAxes, fontsize=14, verticalalignment='top')\n",
    "\n",
    "plt.xlim(-0.02, min(mean_plus_three_std))\n",
    "plt.xlabel(r\"RMSD ($\\mathrm{\\AA}$), Log-normal plot, fit excluding outliers\")\n",
    "plt.ylabel(\"PDF\")\n",
    "plt.legend()\n",
    "plt.title('RMSD comparison on Industry benchmark set (70K+ conf.)')\n",
    "plt.savefig(f'lognormal_plot_of_RMSD.png', dpi=300)\n",
    "plt.show()"
   ]
  },
  {
   "cell_type": "code",
   "execution_count": null,
   "metadata": {
    "tags": []
   },
   "outputs": [],
   "source": [
    "# %matplotlib\n",
    "fix, ax = plt.subplots(figsize=(12,8))\n",
    "plt.rcParams.update({'font.size': 16})\n",
    "\n",
    "mean_plus_three_std = []\n",
    "for i, forcefield in enumerate(ff_list):\n",
    "    if forcefield == 'GAFF 2.11 + AM1BCC':\n",
    "        data = df.loc[df['Force Field'] == forcefield][\"TFD\"]\n",
    "        data = data[np.abs(data) > 0.001]\n",
    "        data = data[~np.isnan(data)]\n",
    "        data = data[data != 0]\n",
    "        s, loc, scale = lognorm.fit(data, floc=0)\n",
    "        estimated_mu = np.log(scale)\n",
    "        estimated_sigma = s\n",
    "        plt.hist(data, bins=500, linestyle='-.', linewidth=2, label=forcefield, alpha=0.75, histtype='step')\n",
    "        xmin = data.min()\n",
    "        xmax = data.max()\n",
    "        x = np.linspace(xmin, xmax, 10000)\n",
    "        pdf = lognorm.pdf(x, s,  loc=loc, scale=scale)\n",
    "        plt.plot(x, pdf, linestyle='-.', linewidth=5, label=forcefield)\n",
    "        print(f\"{forcefield}, mean: {estimated_mu:.4f}, sigma: {estimated_sigma:.4f}\")\n",
    "        \n",
    "    else:\n",
    "        data = df.loc[df['Force Field'] == forcefield][\"TFD\"]\n",
    "        data = data[np.abs(data) > 0.002]\n",
    "        data = data[~np.isnan(data)]\n",
    "        data = data[data != 0]\n",
    "        q3, q1 = np.percentile(data, [75 ,25])\n",
    "        iqr = q3 - q1\n",
    "        max_whisker = q3+3*iqr\n",
    "        print(max_whisker)\n",
    "        s, loc, scale = lognorm.fit(data[data < max_whisker], floc=0)\n",
    "        estimated_mu = np.log(scale)\n",
    "        estimated_sigma = s\n",
    "        num_bins = 300\n",
    "        hist,left = np.histogram(data, bins=num_bins, range=(0,0.3), density=True)\n",
    "        centers = left[:-1] + (left[1] - left[0])\n",
    "#         plt.hist(data, bins=300, linestyle='-', linewidth=1, alpha=1.0, histtype='step', color=kelly[i+1], density=True, range=(0, 3))\n",
    "        plt.plot(centers, hist, linestyle='-', linewidth=1, alpha=1.0, color=kelly[i+1])\n",
    "        xmin = data.min()\n",
    "        xmax = data.max()\n",
    "        x = np.linspace(xmin, xmax, 1000)\n",
    "        pdf = lognorm.pdf(x, s, loc=loc, scale=scale)\n",
    "        plt.plot(x, pdf, linewidth=2, label=forcefield, color=kelly[i+1])\n",
    "        print(f\"{forcefield}, mean: {estimated_mu:.4f}, sigma: {estimated_sigma:.4f}, scale: {scale}\")\n",
    "        print(lognorm.pdf([1], s, loc=loc, scale=scale))\n",
    "        print(\"Std dev: \", np.sqrt(np.exp(estimated_sigma**2 - 1)*np.exp(2*estimated_mu + estimated_sigma**2)))\n",
    "        print(\"Mean:\", np.exp(estimated_mu+0.5*estimated_sigma**2))\n",
    "        mean_plus_three_std.append(np.exp(estimated_mu+0.5*estimated_sigma**2) + 3*np.sqrt(np.exp(estimated_sigma**2 - 1)*np.exp(2*estimated_mu + estimated_sigma**2)))\n",
    "        x_mode = np.exp(estimated_mu - estimated_sigma*estimated_sigma)\n",
    "        x_mean = np.exp(estimated_mu+0.5*estimated_sigma**2)\n",
    "        plt.plot([x_mode, x_mode], [0, lognorm.pdf(x_mode, s, loc=loc, scale=scale)], 'k-')\n",
    "        plt.plot([x_mode, x_mode], [0, lognorm.pdf(x_mode, s, loc=loc, scale=scale)], 'o', color=kelly[i+1], ms=5)\n",
    "        plt.plot([x_mean, x_mean], [0, lognorm.pdf(x_mean, s, loc=loc, scale=scale)], 'k-.')\n",
    "        plt.plot([x_mean, x_mean], [0, lognorm.pdf(x_mean, s, loc=loc, scale=scale)], 'o', color=kelly[i+1], ms=5)\n",
    "        textstr = ' '.join((forcefield+r': $Mean=%.3f$' % (x_mean), r' $Mode=%.2f$' % (x_mode),'\\n'))\n",
    "        ax.text(0.55, 0.3+i/10, textstr, transform=ax.transAxes, fontsize=14, verticalalignment='top')\n",
    "\n",
    "plt.xlim(-0.01, min(mean_plus_three_std))\n",
    "plt.xlabel(r\"TFD, Log-normal plot, fit excluding outliers\")\n",
    "plt.ylabel(\"PDF\")\n",
    "plt.legend()\n",
    "plt.title('TFD comparison on Industry benchmark set (70K+ conf.)')\n",
    "plt.savefig(f'lognormal_plot_of_TFD.png', dpi=300)\n",
    "plt.show()"
   ]
  },
  {
   "cell_type": "code",
   "execution_count": null,
   "metadata": {
    "tags": []
   },
   "outputs": [],
   "source": [
    "plt.figure(figsize=(15,10))\n",
    "plt.rcParams.update({'font.size': 16})\n",
    "\n",
    "for forcefield in ff_list:\n",
    "    if forcefield == 'GAFF 2.11 + AM1BCC':\n",
    "        data = df.loc[df['Force Field'] == forcefield][\"TDF\"]\n",
    "        data = data[~np.isnan(data)]\n",
    "        data = data[data != 0]\n",
    "        s, loc, scale = lognorm.fit(data, floc=0)\n",
    "        estimated_mu = np.log(scale)\n",
    "        estimated_sigma = s\n",
    "#         plt.hist(data, bins=500, linestyle='-.', linewidth=3, label=forcefield, alpha=0.75)\n",
    "        xmin = data.min()\n",
    "        xmax = data.max()\n",
    "        x = np.linspace(xmin, xmax, 1000)\n",
    "        pdf = lognorm.pdf(x, s,  loc=loc, scale=scale)\n",
    "        plt.plot(x, pdf, linestyle='-.', linewidth=3, label=forcefield)\n",
    "        print(f\"{forcefield}, mean: {estimated_mu:.4f}, sigma: {estimated_sigma:.4f}\")\n",
    "        \n",
    "    else:\n",
    "        data = df.loc[df['Force Field'] == forcefield][\"TFD\"]\n",
    "        data = data[~np.isnan(data)]\n",
    "        data = data[data != 0]\n",
    "        s, loc, scale = lognorm.fit(data, floc=0)\n",
    "        estimated_mu = np.log(scale)\n",
    "        estimated_sigma = s\n",
    "#         plt.hist(data, bins=500, alpha=0.75)\n",
    "        xmin = data.min()\n",
    "        xmax = data.max()\n",
    "        x = np.linspace(xmin, xmax, 1000)\n",
    "        pdf = lognorm.pdf(x, s, loc=loc, scale=scale)\n",
    "        plt.plot(x, pdf, linewidth=3, label=forcefield)\n",
    "        print(f\"{forcefield}, mean: {estimated_mu:.4f}, sigma: {estimated_sigma:.4f}\")\n",
    "        \n",
    "\n",
    "plt.xlim(-0.02, 0.3)\n",
    "plt.xlabel(f\"TFD, Log-normal plot\")\n",
    "plt.ylabel(\"PDF\")\n",
    "plt.legend()\n",
    "plt.title('TFD comparison on Industry benchmark set (70K+ conf.)')\n",
    "plt.savefig(f'lognormal_plot_of_TFD.png', dpi=300)\n",
    "plt.show()"
   ]
  },
  {
   "cell_type": "code",
   "execution_count": null,
   "metadata": {
    "tags": []
   },
   "outputs": [],
   "source": [
    "plt.figure(figsize=(15,10))\n",
    "plt.rcParams.update({'font.size': 16})\n",
    "\n",
    "for forcefield in ff_list:\n",
    "    if forcefield == 'GAFF 2.11 + AM1BCC':\n",
    "        data = df.loc[df['Force Field'] == forcefield][\"ddE\"]\n",
    "        data = data[~np.isnan(data)]\n",
    "        data = data[data != 0]\n",
    "        data = np.abs(data)\n",
    "        s, loc, scale = lognorm.fit(data, floc=0)\n",
    "        estimated_mu = np.log(scale)\n",
    "        estimated_sigma = s\n",
    "        xmin = data.min()\n",
    "        xmax = data.max()\n",
    "        x = np.linspace(xmin, xmax, 10000)\n",
    "        pdf = lognorm.pdf(x, s,  loc=loc, scale=scale)\n",
    "        plt.plot(x, pdf, linestyle='-.', linewidth=3, label=forcefield)\n",
    "        print(f\"{forcefield}, mean: {estimated_mu:.4f}, sigma: {estimated_sigma:.4f}\")\n",
    "        \n",
    "    else:\n",
    "        data = df.loc[df['Force Field'] == forcefield][\"ddE\"]\n",
    "        data = data[~np.isnan(data)]\n",
    "        data = data[data != 0]\n",
    "        data = np.abs(data)\n",
    "        s, loc, scale = lognorm.fit(data, floc=0)\n",
    "        estimated_mu = np.log(scale)\n",
    "        estimated_sigma = s\n",
    "        xmin = data.min()\n",
    "        xmax = data.max()\n",
    "        x = np.linspace(xmin, xmax, 10000)\n",
    "        pdf = lognorm.pdf(x, s, loc=loc, scale=scale)\n",
    "        plt.plot(x, pdf, linewidth=3, label=forcefield)\n",
    "        print(f\"{forcefield}, mean: {estimated_mu:.4f}, sigma: {estimated_sigma:.4f}\")\n",
    "\n",
    "\n",
    "plt.xlim(-0.02, 0.5)\n",
    "plt.xlabel(f\"|ddE| (kcal/mol), Log-normal plot\")\n",
    "plt.ylabel(\"PDF\")\n",
    "plt.legend()\n",
    "plt.title('|ddE| comparison on Industry benchmark set (70K+ conf.)')\n",
    "plt.savefig(f'lognormal_plot_of_ddE.png', dpi=300)\n",
    "plt.show()"
   ]
  },
  {
   "cell_type": "code",
   "execution_count": null,
   "metadata": {},
   "outputs": [],
   "source": []
  },
  {
   "cell_type": "code",
   "execution_count": null,
   "metadata": {},
   "outputs": [],
   "source": []
  },
  {
   "cell_type": "code",
   "execution_count": null,
   "metadata": {},
   "outputs": [],
   "source": []
  }
 ],
 "metadata": {
  "kernelspec": {
   "display_name": "Python 3 (ipykernel)",
   "language": "python",
   "name": "python3"
  },
  "language_info": {
   "codemirror_mode": {
    "name": "ipython",
    "version": 3
   },
   "file_extension": ".py",
   "mimetype": "text/x-python",
   "name": "python",
   "nbconvert_exporter": "python",
   "pygments_lexer": "ipython3",
   "version": "3.8.16"
  }
 },
 "nbformat": 4,
 "nbformat_minor": 4
}
